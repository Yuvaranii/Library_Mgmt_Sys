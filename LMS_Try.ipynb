{
  "cells": [
    {
      "cell_type": "markdown",
      "metadata": {
        "id": "view-in-github",
        "colab_type": "text"
      },
      "source": [
        "<a href=\"https://colab.research.google.com/github/Yuvaranii/Library_Mgmt_Sys/blob/main/LMS_Try.ipynb\" target=\"_parent\"><img src=\"https://colab.research.google.com/assets/colab-badge.svg\" alt=\"Open In Colab\"/></a>"
      ]
    },
    {
      "cell_type": "code",
      "execution_count": null,
      "metadata": {
        "colab": {
          "base_uri": "https://localhost:8080/"
        },
        "id": "s8uhR6t0_4Io",
        "outputId": "5231942e-5183-4da5-b6c5-75462c8aeb46"
      },
      "outputs": [
        {
          "name": "stdout",
          "output_type": "stream",
          "text": [
            "Looking in indexes: https://pypi.org/simple, https://us-python.pkg.dev/colab-wheels/public/simple/\n",
            "Requirement already satisfied: dnspython in /usr/local/lib/python3.7/dist-packages (2.2.1)\n",
            "Looking in indexes: https://pypi.org/simple, https://us-python.pkg.dev/colab-wheels/public/simple/\n",
            "Requirement already satisfied: pymongo[srv] in /usr/local/lib/python3.7/dist-packages (4.3.2)\n",
            "Requirement already satisfied: dnspython<3.0.0,>=1.16.0 in /usr/local/lib/python3.7/dist-packages (from pymongo[srv]) (2.2.1)\n"
          ]
        }
      ],
      "source": [
        "!pip install dnspython\n",
        "!pip install pymongo[srv] \n",
        "import pymongo\n",
        "import re\n",
        "import pandas as pd\n",
        "import datetime as dt\n"
      ]
    },
    {
      "cell_type": "code",
      "execution_count": null,
      "metadata": {
        "id": "nls3wWcQyI8B"
      },
      "outputs": [],
      "source": [
        "Client = pymongo.MongoClient(\"mongodb+srv://@@@:@@@@cluster0.os1btpz.mongodb.net/?retryWrites=true&w=majority\")\n",
        "db = Client.LMS\n",
        "Reg = db.Register\n",
        "Inv = db.Inventory\n",
        "Iss = db.Issued"
      ]
    },
    {
      "cell_type": "code",
      "execution_count": null,
      "metadata": {
        "id": "ZHN2oWtnsK3G"
      },
      "outputs": [],
      "source": [
        "def Phone_Num():\n",
        "  I = input (\"Enter the Phone Number\" \"\\n\")\n",
        "  R = \"[6-9][0-9]{9}$\"\n",
        "  if re.match (R,I):\n",
        "    if Reg.find_one({\"_id\" : {\"$eq\" : I}}):\n",
        "      print (\"Phone number already exists\")\n",
        "      Home()\n",
        "    else:\n",
        "      print (\"Phone number is Valid\")\n",
        "      return (I)\n",
        "  else: \n",
        "    print (\"Enter the Valid Phone Number \\nEnter the 10 digit Mobile Number, it should starts with (6-9)\")\n",
        "\n",
        "def PW():\n",
        "  I = input (\"Enter the Password\" \"\\n\")\n",
        "  P=\"^(?=.*[a-z])(?=.*[A-Z])(?=.*[0-9])(?=.*[^A-Za-z0-9])(?=.{6,16})\"\n",
        "  if re.match (P,I):\n",
        "    print (\"Password Validated\")\n",
        "    return (I)\n",
        "  else:\n",
        "    print(\"Invalid password, \\nPlease enter a valid password with 1 number, \\n1 lowercase, 1 upper case, \\n1 special character within 6 to 15 characters\")\n",
        "\n",
        "def Student_Name():\n",
        "  I = input (\"Enter the Name\" \"\\n\")\n",
        "  P = \"[a-zA-Z]{3,20}$\"\n",
        "  if re.match (P,I):\n",
        "    print (\"Name Validated\")\n",
        "    return (I)\n",
        "  else:\n",
        "    print (\"Enter the Valid Name \\nLength of the Name must be 3-20\")\n",
        "\n",
        "def Roll_num():\n",
        "  I = input (\"Enter the Roll Number\" \"\\n\")\n",
        "  P = \"^[A-Z]{6}[0-9]{4}$\"\n",
        "  if re.match (P,I):\n",
        "    print (\"Roll Number Validated\")\n",
        "    return (I)\n",
        "  else:\n",
        "    print (\"Enter the Valid Roll Number \\nEnter the 10 Digit Roll number similar to [GUVIDS0000]\")\n",
        "\n",
        "def Dept():\n",
        "  I = input (\"Enter the Department Name\" \"\\n\")\n",
        "  P = \"^[A-Za-z]{2,10}$\"\n",
        "  if re.match (P,I):\n",
        "    print (\"Department Validated\")\n",
        "    return (I)\n",
        "  else:\n",
        "    print (\"Enter the Valid Department Name \\nEnter the Department Name similar to [EEE/CSE/ECE/IT/etc]\")\n",
        "\n",
        "def Mail_ID():\n",
        "  I = input (\"Enter the Mail ID\" \"\\n\")\n",
        "  P = \"^[a-z A-Z]+[\\._]?[a-z A-Z 0-9 \\._-]+[@]\\w+[A-Z a-z]+[.][A-Z a-z]{2,3}$\"\n",
        "  if re.match (P,I):\n",
        "    print (\"Mail ID Validated\")\n",
        "    return (I)\n",
        "  else:\n",
        "    print (\"Enter the Valid Mail ID \\n\")\n",
        "\n",
        "def Register():\n",
        "  R = {\n",
        "    \"_id\": Phone_Num(),\n",
        "    \"Password\":PW(),\n",
        "    \"Name\": Student_Name(),\n",
        "    \"Roll_Num\":Roll_num(),\n",
        "    \"Department\":Dept(),\n",
        "    \"Mail\": Mail_ID()\n",
        "    }\n",
        "  Reg.insert_one(R)\n",
        "  print(\"Registered Successfully\") "
      ]
    },
    {
      "cell_type": "code",
      "execution_count": null,
      "metadata": {
        "id": "yi9Qo-tTxUfO"
      },
      "outputs": [],
      "source": [
        "def Search_Books():\n",
        "  I = input(\"Enter the Book Title or Book Author Name \\n\")\n",
        "  M = {\"$or\":[{\"Book Title\":I},{\"Book Author\":I}]}\n",
        "  X = Inv.find_one(M, {\"_id\" : 0, \"Book Title\" : 1, \"Book Author\" : 1})\n",
        "  x = pd.DataFrame(X)\n",
        "  print (x)\n",
        "  if (X==None):\n",
        "    print(\"Data not found\")\n",
        "\n",
        "def Available_Books():\n",
        "  I = Inv.find({},{}).sort(\"_id\")\n",
        "  I = pd.DataFrame(I)\n",
        "  print(I) \n"
      ]
    },
    {
      "cell_type": "code",
      "execution_count": null,
      "metadata": {
        "id": "5MNU4DT-Lr8Q"
      },
      "outputs": [],
      "source": [
        "def ISBN():\n",
        "  ISBN= input(\"Enter the 5 digits ISBN\" \"\\n\")\n",
        "  M = \"[0-9]{5}$\"\n",
        "  if re.match (M,ISBN):\n",
        "    if Inv.find_one({\"_id\" : {\"$eq\" : ISBN}}):\n",
        "      print(\"ISBN already exists\")\n",
        "    else:\n",
        "      return (ISBN)\n",
        "  else: \n",
        "    print (\"Enter the Valid 5 digits ISBN\")\n",
        "      "
      ]
    },
    {
      "cell_type": "code",
      "execution_count": null,
      "metadata": {
        "id": "rubKQvYNRqqD"
      },
      "outputs": [],
      "source": [
        "def Add_Books():\n",
        "  n = int (input (\"Enter the number of books to be added\" \"\\n\"))\n",
        "  for i in range (0,n):\n",
        "    T = input(\"Enter the Book Title\" \"\\n\")\n",
        "    A = input(\"Enter the Book Autor\" \"\\n\")\n",
        "    I = {\"_id\" : ISBN() , \"Book Title\" : T, \"Book Author\" : A}\n",
        "    Inv.insert_one(I)\n",
        "  print(\"Book has been added Sucessfully\")\n"
      ]
    },
    {
      "cell_type": "code",
      "execution_count": null,
      "metadata": {
        "id": "l3NO_wsIORfF"
      },
      "outputs": [],
      "source": [
        "def Edit_Details ():\n",
        "    ISBN= input(\"Enter the 5 digits ISBN\" \"\\n\")\n",
        "    M = \"[0-9]{5}$\"\n",
        "    if re.match (M,ISBN):\n",
        "      if Inv.find_one({\"_id\" : {\"$eq\" : ISBN}}):\n",
        "        I = (input (\"1 - To edit Book Title \\n2 - To edit Book Author \\n\"))\n",
        "        if I==\"1\":\n",
        "          Inp = {\"_id\" : ISBN}\n",
        "          CT = input(\"Enter the New Title\")\n",
        "          NT ={\"$set\":{\"Book Title\":CT}}\n",
        "          Inv.update_one(Inp,NT)\n",
        "          print (\"Updated Successfully\")\n",
        "        elif I==\"2\":\n",
        "          Inp = {\"_id\" : ISBN}\n",
        "          CT = input(\"Enter the New Author\" \"\\n\")\n",
        "          NT ={\"$set\":{\"Book Author\":CT}}\n",
        "          Inv.update_one(Inp,NT)\n",
        "          print (\"Updated Successfully\")\n",
        "        else:\n",
        "          print (\"Enter the valid option\")\n",
        "          Edit_Details()\n",
        "      else:\n",
        "        print (\"ISBN not found\")\n",
        "    else: \n",
        "      print (\"Enter the Valid 5 digits ISBN\")"
      ]
    },
    {
      "cell_type": "code",
      "execution_count": null,
      "metadata": {
        "id": "uGHba4x1JQHP"
      },
      "outputs": [],
      "source": [
        "def Remove_Books():\n",
        "   ISBN = input(\"Enter the 5 digits ISBN\" \"\\n\")\n",
        "   M = \"[0-9]{5}$\"\n",
        "   if re.match (M,ISBN):\n",
        "     if Inv.find_one({\"_id\":{\"$eq\":ISBN}}):\n",
        "       I ={\"_id\":ISBN}\n",
        "       Inv.delete_one(I)\n",
        "       print(\"Deleted successfully \\n\")\n",
        "     else:\n",
        "       print(\"ISBN not exists\" \"\\n\")\n",
        "   else:\n",
        "     print(\"Invalid ISBN\" \"\\n\")"
      ]
    },
    {
      "cell_type": "code",
      "execution_count": null,
      "metadata": {
        "id": "3L8Mzz2UOU_8"
      },
      "outputs": [],
      "source": [
        "def Issue_Books():\n",
        "  I = input(\"\\nEnter the Registered Phone Number: \" \"\\n\")\n",
        "  X = Reg.find_one({'_id':I})\n",
        "  if X!= None:\n",
        "    Count = Iss.count_documents({'Username':I})\n",
        "    if(Count<5):\n",
        "      ISBNNum = input(\"\\nEnter the ISBN Number: \" \"\\n\")\n",
        "      F = Inv.find_one({\"_id\":ISBNNum})\n",
        "      if F != None:\n",
        "        D1=(input('Enter the Date of Issue: Format : YYYY-MM-DD\\n'))\n",
        "        D2=\"^\\d{4}\\-(0[1-9]|1[012])\\-(0[1-9]|[12][0-9]|3[01])$\"\n",
        "        if re.match(D2,D1):\n",
        "          date = dt.datetime.strptime((D1),'%Y-%m-%d')\n",
        "          data ={\n",
        "                        'Username' : I,\n",
        "                        'Book Title' : F[\"Book Title\"],\n",
        "                        'Book Author' : F[\"Book Author\"],\n",
        "                        'ISBN' : ISBNNum,\n",
        "                        'Issue_date' : date,\n",
        "                        'Date_to_Return' : date + dt.timedelta(days = 15),\n",
        "                        'Penalty' : 0\n",
        "               }\n",
        "          h=Iss.insert_one(data)\n",
        "          i=Inv.delete_one({\"_id\":ISBNNum})\n",
        "          if h != None and i != None:\n",
        "            print(\"Book has been Issued Successfully\")\n",
        "          else:\n",
        "            print(\"The Book has not been Issued \\n\")\n",
        "        else:\n",
        "          print(\"Enter the Valid Format - YYYY-MM-DD\\n\")  \n",
        "          Issue_Books()  \n",
        "      else:\n",
        "        print(\"\\nTry any other books\")\n",
        "        Issue_Books()\n",
        "    else:\n",
        "      print(\"Maximum Limit is 5\\n\")\n",
        "      Home()    \n",
        "  else:\n",
        "    Issue_Books()\n"
      ]
    },
    {
      "cell_type": "code",
      "execution_count": null,
      "metadata": {
        "id": "q4j7XcyQOZaU"
      },
      "outputs": [],
      "source": [
        "def View_Issued():\n",
        "  I = Iss.find({},{\"_id\":0})\n",
        "  df = pd.DataFrame(I)\n",
        "  print(df)"
      ]
    },
    {
      "cell_type": "code",
      "execution_count": null,
      "metadata": {
        "id": "ZhxSEEqaOase"
      },
      "outputs": [],
      "source": [
        "def Receive_Books():\n",
        "  I = input(\"Enter the Registered Phone Number: \" \"\\n\")\n",
        "  a = Reg.find_one({'_id':I})\n",
        "  if a != None:\n",
        "    ISBNNum=input(\"\\nEnter the book ISBN number: \")\n",
        "    X=Iss.find_one({\"ISBN\":ISBNNum,\"Username\":I})\n",
        "    if X != None:\n",
        "      D1=(input('Enter the Date of received: Format : YYYY-MM-DD\\n'))\n",
        "      D2=\"^\\d{4}\\-(0[1-9]|1[012])\\-(0[1-9]|[12][0-9]|3[01])$\"\n",
        "      if re.match(D2,D1):\n",
        "        date = dt.datetime.strptime((D1),'%Y-%m-%d')\n",
        "        Diff = date - X['Date_to_Return']\n",
        "        if Diff.days <= 0:\n",
        "          print(\"\\nNo penality\")\n",
        "          data={\n",
        "            \"_id\":X[\"ISBN\"],\n",
        "            \"Book Title\":X[\"Book Title\"],\n",
        "            \"Book Author\":X[\"Book Author\"]\n",
        "            }\n",
        "          e=Inv.insert_one(data)\n",
        "          d=Iss.delete_one({\"_id\":X[\"_id\"]})\n",
        "          if (e!=None and d!=None):\n",
        "            print(\"\\nBook has been Received Successfully\")\n",
        "          else:\n",
        "            print(\"Try again\\n\") \n",
        "            Home()          \n",
        "        else:\n",
        "          print(\"Find below the Penalty\\n\")\n",
        "          Penalty_Collector(I,ISBNNum) \n",
        "      else:\n",
        "        print(\"Enter the Valid Format - YYYY-MM-DD\\n \")   \n",
        "        Receive_Books()    \n",
        "    else:\n",
        "      print(\"Username or ISBN not found \\n\")\n",
        "      Receive_Books()\n",
        "  else:\n",
        "    print(\"Enter the Valid Phone Number\\n\")\n",
        "    Receive_Books()"
      ]
    },
    {
      "cell_type": "code",
      "execution_count": null,
      "metadata": {
        "id": "_BUOfHSHecin"
      },
      "outputs": [],
      "source": [
        "def Penalty_Collector(UN,ISBN_Num):\n",
        "  A = Iss.find_one({\"ISBN\":ISBN_Num,\"Username\":UN})\n",
        "  if A!=None:\n",
        "     R=A[\"Penalty\"]\n",
        "     print(R,\"Rs Penalty\\n\")\n",
        "     Amount = int(input(\"Please Enter the Amount - \\n\"))\n",
        "     d = Amount-R\n",
        "     if(d>=0):\n",
        "       print(d,\"Rs \\n\")\n",
        "       Data={\n",
        "           \"_id\":A[\"ISBN\"],\n",
        "           \"Book Title\":A[\"Book Title\"],\n",
        "           \"Book Author\":A[\"Book Author\"]\n",
        "           }\n",
        "       X=Inv.insert_one(Data)  \n",
        "       Del=Iss.delete_one({\"_id\":A[\"_id\"]}) \n",
        "       if(X!=None and Del!=None):\n",
        "         print(\"\\nPenalty paid and Book has been Received successfully - Thanks!!!\\n\")\n",
        "       else:\n",
        "         print(\"Try Again \\n\") \n",
        "         Home()\n",
        "     else:\n",
        "       d1=R-Amount\n",
        "       print(d1,\"Rs to be paid \\n\")      \n",
        "  else:\n",
        "    print(\"Enter the Valid Details\\n\") "
      ]
    },
    {
      "cell_type": "code",
      "execution_count": 31,
      "metadata": {
        "id": "eIIO6W-AhUuR"
      },
      "outputs": [],
      "source": [
        "def Admin():\n",
        "  LL = input(\"Enter the Librarian Login ID: \" \"\\n\")\n",
        "  LP = input(\"Enter the Librarian Password:\" \"\\n\")\n",
        "  if ((LL==\"admin\") and (LP == \"admin\")):\n",
        "    print(\"You have been Successfully Logged in\")\n",
        "    Option =  (input(\"1 - To view the Available Books \\n2 - To Add the Books \\n3 - To Edit the Details \\n4 - To Remove the books\\n5 - To Issue the books \\n6 - To View the Issued Books\\n7 - To Receive the books\\n8 - To Collect the Penalty \\n\"))\n",
        "    if (Option == \"1\"):\n",
        "      Available_Books()\n",
        "    elif (Option == \"2\"):\n",
        "      Add_Books()\n",
        "    elif (Option == \"3\"):\n",
        "      Edit_Details()\n",
        "    elif (Option == \"4\"):\n",
        "      Remove_Books()\n",
        "    elif (Option == \"5\"):\n",
        "      Issue_Books()\n",
        "    elif (Option == \"6\"):\n",
        "      View_Issued()\n",
        "    elif (Option == \"7\"):\n",
        "      Receive_Books()\n",
        "    elif (Option == \"8\"):\n",
        "      a=input(\"\\nEnter the student phone number: \")\n",
        "      b=input(\"\\nEnter the book ISBN number: \")\n",
        "      Penalty_Collector(a,b)\n",
        "    else:\n",
        "      print(\"Enter the Valid Option\")\n",
        "      Admin()\n",
        "  else:\n",
        "    print (\"Enter the Valid Credentials\")\n",
        "    Admin()\n"
      ]
    },
    {
      "cell_type": "code",
      "execution_count": null,
      "metadata": {
        "id": "6b1XBPZdKkQT"
      },
      "outputs": [],
      "source": [
        "def Student_Login():\n",
        "  SL = input (\"Enter the Student Login\" \"\\n\")\n",
        "  SP = input (\"Enter the Student Password\" \"\\n\")\n",
        "  if Reg.find_one({\"$and\":[{\"_id\" : {\"$eq\" :SL}},{\"Password\" : {\"$eq\" : SP}}]}):\n",
        "    print (f\"{SL} - You have been Successfully Logged in\")\n",
        "    Option = (input (\"1 - To View the Details \\n2 - To View the Available Books \\n3 - To Search for the Books \\n\"))\n",
        "    if Option == \"1\":\n",
        "      V = Iss.find({},{\"_id\":0, \"Book Title\":1 , \"Issued date\":1,\"Date of Return\":1, \"Penalty\":1})\n",
        "      df = pd.DataFrame(V)\n",
        "      print(df)\n",
        "    elif Option ==\"2\":\n",
        "      Available_Books()\n",
        "    elif Option == \"3\":\n",
        "      Search_Books()\n",
        "    else:\n",
        "      print (\"Enter the Valid Input\")\n",
        "      Home()\n",
        "  else:\n",
        "    print(\"Enter the Valid Credentials\")\n",
        "    I = (input(\"1 - To Register \\n2 - To login \\n\"))\n",
        "    if(I== \"1\"):\n",
        "      Register()\n",
        "    elif(I== \"2\") :\n",
        "      Student_Login()\n",
        "    else:\n",
        "      print(\"Enter the Valid Input\")  \n",
        "      Home()"
      ]
    },
    {
      "cell_type": "code",
      "execution_count": 23,
      "metadata": {
        "id": "LNr9iJk-KYkx"
      },
      "outputs": [],
      "source": [
        "def Penalty():\n",
        "  P = Iss.find({})\n",
        "  for i in P:\n",
        "    D = dt.datetime.now() - i['Date_to_Return']\n",
        "    if (D.days>0):\n",
        "      Pe = D.days*20\n",
        "      S ={\"$set\":{\"Penalty\": Pe}}\n",
        "      Iss.update_one({\"_id\":i[\"_id\"]},S)\n",
        "\n",
        "def Home():\n",
        "  Penalty()\n",
        "  Option = (input(\"1 - Student Login \\n2 - Librarian Login \\n\"))\n",
        "  if Option == \"1\":\n",
        "    print (\"Welcome\")\n",
        "    Op = (input(\"1 - Student Register \\n2 - Student Login \\n\"))\n",
        "    if Op == \"1\":\n",
        "      Register()\n",
        "    elif Op == \"2\":\n",
        "      Student_Login()\n",
        "    else: \n",
        "      Home()\n",
        "  elif Option == \"2\":\n",
        "    Admin()\n",
        "  else:\n",
        "    Home()"
      ]
    },
    {
      "cell_type": "code",
      "execution_count": 34,
      "metadata": {
        "colab": {
          "base_uri": "https://localhost:8080/"
        },
        "id": "V15-_8rKZjTX",
        "outputId": "2694722c-142d-4642-9511-55e2f0d8a45d"
      },
      "outputs": [
        {
          "output_type": "stream",
          "name": "stdout",
          "text": [
            "1 - Student Login \n",
            "2 - Librarian Login \n",
            "2\n",
            "Enter the Librarian Login ID: \n",
            "admin\n",
            "Enter the Librarian Password:\n",
            "admin\n",
            "You have been Successfully Logged in\n",
            "1 - To view the Available Books \n",
            "2 - To Add the Books \n",
            "3 - To Edit the Details \n",
            "4 - To Remove the books\n",
            "5 - To Issue the books \n",
            "6 - To View the Issued Books\n",
            "7 - To Receive the books\n",
            "8 - To Collect the Penalty \n",
            "6\n",
            "     Username     Book Title Book Author   ISBN Issue_date Date_to_Return  \\\n",
            "0  8908908900  Wings of Fire         APJ  00001 2022-10-10     2022-10-25   \n",
            "\n",
            "   Penalty  \n",
            "0      100  \n"
          ]
        }
      ],
      "source": [
        "Home()"
      ]
    }
  ],
  "metadata": {
    "colab": {
      "collapsed_sections": [],
      "provenance": [],
      "include_colab_link": true
    },
    "kernelspec": {
      "display_name": "Python 3",
      "name": "python3"
    },
    "language_info": {
      "name": "python"
    }
  },
  "nbformat": 4,
  "nbformat_minor": 0
}